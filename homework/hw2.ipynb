{
 "cells": [
  {
   "cell_type": "code",
   "execution_count": 13,
   "metadata": {},
   "outputs": [],
   "source": [
    "import numpy as np\n",
    "import math\n",
    "import matplotlib.pyplot as plt"
   ]
  },
  {
   "cell_type": "markdown",
   "metadata": {},
   "source": [
    "### 1 - Standardization\n",
    "We suppose that the feature of u is u, that is the embedding is the identity.\n",
    "\n",
    "Then \n",
    "$$\n",
    "p = \\frac{1}{N}U^T\n",
    "\\begin{bmatrix}\n",
    "1\\\\ 1 \\\\ \\dots \\\\1\n",
    "\\end{bmatrix}.\n",
    "$$\n",
    "\n",
    "It's the proportion of $j$-th entries that were $1$ over the total $m$, equivalently can be thought as the empirical mean of a Bernoulli.\n",
    "\n",
    "To compute the standard deviation, we use exactly this interpretation, which in particular gives that the number of $1$'s is $p_jm$ and that of $0$'s is $(1-p_j) m$. Quindi,\n",
    "$$\n",
    "\\sigma_j = \\sqrt{\\frac{1}{N-1} \\sum^N_j \\left(u_j^i - p_j\\right)^2} = \\sqrt{\\frac{1}{N-1} (p_j^2 (1-p_j) N + (1-p_j)^2 p_j N)} = \\sqrt{\\frac{N}{N-1}p_j(1-p_j)}\n",
    "$$\n",
    "which is also the empirical std of a Bernoulli.\n",
    "\n",
    "To find X, one removes the respective mean from each component, and row-multiplies\n",
    "$$\n",
    "X = \\mathrm{diag}(\\frac{1}{\\sigma_1},\\dots,\\frac{1}{\\sigma_n})(U-\\mathrm{diag}(p_1,\\dots,p_n)\\mathrm{ones}(n,m)).\n",
    "$$\n",
    "\n",
    "note: idiots in ML want to see one as result of the z-scoring, so they use $N$ instead of $N-1$. This is simply bullshit."
   ]
  },
  {
   "cell_type": "code",
   "execution_count": 14,
   "metadata": {},
   "outputs": [
    {
     "name": "stdout",
     "output_type": "stream",
     "text": [
      "2.9531932455029166e-16\n",
      "1.0000000000000027\n"
     ]
    }
   ],
   "source": [
    "n = 400\n",
    "m = 40\n",
    "U = np.random.randint(0,2,[n,m])\n",
    "\n",
    "def standardize(U):\n",
    "        [n,m] = np.shape(U)\n",
    "        \n",
    "        p = np.sum(U,axis=0)/n\n",
    "        \n",
    "        S = np.diag(np.ones(m)/np.sqrt(p*(1-p)))\n",
    "        X = (U-np.ones([n,m]) @ np.diag(p)) @ S\n",
    "        return X\n",
    "        \n",
    "        # # in case we do not want to use structure-specific code\n",
    "        # S = np.diag(np.sqrt(p*(1-p)))\n",
    "        # X = np.linalg.solve(S.T,(U-np.ones([n,m]) @ np.diag(p)).T)\n",
    "        # return X.T\n",
    "\n",
    "X = standardize(U)\n",
    "print(np.max(np.mean(X,axis=0)))\n",
    "print(np.max(np.std(X,axis=0)))"
   ]
  },
  {
   "cell_type": "markdown",
   "metadata": {},
   "source": [
    "### 2 - knn is just special weighted nn\n",
    "They are $1/k$ for the $k$ nearest entries according to the norm. To obtain them, we have few ways:\n",
    "- to sort the set of y's according to norm(x-x_i) and take the sum of first k entries\n",
    "- to use np.argsort => returns indexes of sorted array\n",
    "We implement the latter"
   ]
  },
  {
   "cell_type": "code",
   "execution_count": 44,
   "metadata": {},
   "outputs": [
    {
     "data": {
      "image/png": "[encoded data removed]",
      "text/plain": [
       "<Figure size 640x480 with 1 Axes>"
      ]
     },
     "metadata": {},
     "output_type": "display_data"
    }
   ],
   "source": [
    "# parameters\n",
    "n = 100\n",
    "k = 20\n",
    "X = 10*np.random.rand(n) # x is in R => specific syntax\n",
    "Y = 10*np.sin(X) + np.random.rand(n) # y is in R\n",
    "\n",
    "# show-off of argsort usage\n",
    "xv = np.linspace(0,10,500)\n",
    "yv = np.empty(500)\n",
    "for i in range(500):\n",
    "\tindexed = np.argsort(np.abs(X-xv[i]))\n",
    "\tyv[i] = np.sum(Y[indexed[0:k]])/k\n",
    "\n",
    "# visualization\n",
    "plt.scatter(X,Y,color=\"blue\")\n",
    "plt.plot(xv,yv,color=\"red\")\n",
    "plt.show()"
   ]
  },
  {
   "cell_type": "markdown",
   "metadata": {},
   "source": [
    "### 3 - Feature engineering not affecting results (due to predictor choice)\n",
    "It does not sort any effect since when we compute the predictor both $x^i_1$ and $x_1$ are $1$, and so $x^i_1-x_1=0$, and so it does not contribute to the two-norm some, which we use in snn and knn.\n",
    "\n",
    "### 4 - Ordered (cyclical) feature embedding\n",
    "we get a torus. The idea is to map (d,h) on a plane, and then \"connect\" the extrema that are cyclic in their nature.\n",
    "\n",
    "### 5 - Validation of different feature maps and predictors\n",
    "Here is the code:"
   ]
  },
  {
   "cell_type": "code",
   "execution_count": null,
   "metadata": {},
   "outputs": [],
   "source": [
    "import json\n",
    "import random as rd\n",
    "\n",
    "import numpy as np\n",
    "import matplotlib.pyplot as plt\n",
    "\n",
    "from ee104.hw2 import SoftNN, RMS\n",
    "\n",
    "def import_json():\n",
    "        with open('feat_valid.json','r') as file:\n",
    "                data = json.load(file)\n",
    "        U = np.array(data['U']['data'])\n",
    "        v = np.array(data['v']['data'])\n",
    "        return (U,v)\n",
    "\n",
    "def partition_data(U,v,p): # p is the proportion of data devoted to test set\n",
    "        [N,m] = np.shape(U)\n",
    "        index = np.array(range(N))\n",
    "        rd.shuffle(index)\n",
    "        return(U[index > N*p],U[index <= N*p],v[index > N*p],v[index <= N*p])\n",
    "\n",
    "def feature_map_1(U):\n",
    "        return U\n",
    "def feature_map_2(U):\n",
    "        return np.concatenate([U,np.stack([U[:,0]*U[:,1],U[:,2]*U[:,1],U[:,2]*U[:,0]]).T,U**2],axis=1)\n",
    "\n",
    "[U,v] = import_json()\n",
    "\n",
    "[U, Ut, v, vt] = partition_data(U,v,.2)\n",
    "[X1, X1t] = [feature_map_1(U),feature_map_1(Ut)]\n",
    "[X2, X2t] = [feature_map_2(U),feature_map_2(Ut)]\n",
    "\n",
    "R = np.linspace(.1,1.5,20);\n",
    "\n",
    "RMStrain1 = np.empty(np.shape(R)); RMStest1 = np.empty(np.shape(R))\n",
    "RMStrain2 = np.empty(np.shape(R)); RMStest2 = np.empty(np.shape(R))\n",
    "for i in range(np.size(R)):\n",
    "        RMStrain1[i] = RMS(SoftNN(X1,X1,v,R[i]),v)\n",
    "        RMStest1[i] = RMS(SoftNN(X1t,X1,v,R[i]),vt)\n",
    "        RMStrain2[i] = RMS(SoftNN(X2,X2,v,R[i]),v)\n",
    "        RMStest2[i] = RMS(SoftNN(X2t,X2,v,R[i]),vt)\n",
    "\n",
    "plt.plot(R,RMStrain1,color=\"blue\",label=\"train - 1 feature map\")\n",
    "plt.plot(R,RMStest1,color=\"red\",label=\"test - 1 feature map\")\n",
    "plt.plot(R,RMStrain2,color=\"green\",label=\"train - 2 feature map\")\n",
    "plt.plot(R,RMStest2,color=\"purple\",label=\"test - 2 feature map\")\n",
    "plt.legend()\n",
    "plt.show()\n",
    "\n",
    "# the result makes sense since the scale of the problem is 1, indeed.\n",
    "# so, the second and first feature maps, with smoother parameters are best.\n",
    "\n",
    "# at start strong underfit given by nearly piecewise approximation.\n",
    "# at the end, it is nearly constant and stays so."
   ]
  }
 ],
 "metadata": {
  "kernelspec": {
   "display_name": ".venv",
   "language": "python",
   "name": "python3"
  },
  "language_info": {
   "codemirror_mode": {
    "name": "ipython",
    "version": 3
   },
   "file_extension": ".py",
   "mimetype": "text/x-python",
   "name": "python",
   "nbconvert_exporter": "python",
   "pygments_lexer": "ipython3",
   "version": "3.12.5"
  }
 },
 "nbformat": 4,
 "nbformat_minor": 2
}
